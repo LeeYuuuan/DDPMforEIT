{
  "nbformat": 4,
  "nbformat_minor": 0,
  "metadata": {
    "colab": {
      "provenance": [],
      "collapsed_sections": [
        "GYrUiE4H5Gtv"
      ],
      "machine_shape": "hm",
      "gpuType": "T4",
      "mount_file_id": "1bBtFGv2YoV-dB46563fummdyViW3LNAs",
      "authorship_tag": "ABX9TyOH2q0wyNXZWGxtutTo2qvm",
      "include_colab_link": true
    },
    "kernelspec": {
      "name": "python3",
      "display_name": "Python 3"
    },
    "language_info": {
      "name": "python"
    },
    "accelerator": "GPU"
  },
  "cells": [
    {
      "cell_type": "markdown",
      "metadata": {
        "id": "view-in-github",
        "colab_type": "text"
      },
      "source": [
        "<a href=\"https://colab.research.google.com/github/LeeYuuuan/DDPMforEIT/blob/main/CLIP.ipynb\" target=\"_parent\"><img src=\"https://colab.research.google.com/assets/colab-badge.svg\" alt=\"Open In Colab\"/></a>"
      ]
    },
    {
      "cell_type": "code",
      "execution_count": null,
      "metadata": {
        "id": "UbEtvG09m0C1"
      },
      "outputs": [],
      "source": [
        "import torch\n",
        "import os\n",
        "from torch.utils.data import TensorDataset,DataLoader,Dataset\n",
        "import scipy.io\n",
        "import numpy as np\n",
        "from torchvision import transforms\n",
        "from sklearn.model_selection import train_test_split\n",
        "import matplotlib.pyplot as plt\n",
        "import torch.nn.functional as F\n",
        "from torch import nn\n",
        "from collections import OrderedDict\n",
        "from typing import Tuple, Union"
      ]
    },
    {
      "cell_type": "code",
      "source": [
        "%%python --version"
      ],
      "metadata": {
        "colab": {
          "base_uri": "https://localhost:8080/"
        },
        "id": "vh213EDOiCCj",
        "outputId": "6dc1b91f-c08e-481f-e2f5-1a4e3614024c"
      },
      "execution_count": null,
      "outputs": [
        {
          "output_type": "stream",
          "name": "stdout",
          "text": [
            "Python 3.10.12\n"
          ]
        }
      ]
    },
    {
      "cell_type": "code",
      "source": [
        "!nvidia-smi"
      ],
      "metadata": {
        "colab": {
          "base_uri": "https://localhost:8080/"
        },
        "id": "jQR2LaOQRAUK",
        "outputId": "bba4cd2c-a99e-4737-979e-c625b94ff8e1"
      },
      "execution_count": null,
      "outputs": [
        {
          "output_type": "stream",
          "name": "stdout",
          "text": [
            "Mon Feb  5 17:15:28 2024       \n",
            "+---------------------------------------------------------------------------------------+\n",
            "| NVIDIA-SMI 535.104.05             Driver Version: 535.104.05   CUDA Version: 12.2     |\n",
            "|-----------------------------------------+----------------------+----------------------+\n",
            "| GPU  Name                 Persistence-M | Bus-Id        Disp.A | Volatile Uncorr. ECC |\n",
            "| Fan  Temp   Perf          Pwr:Usage/Cap |         Memory-Usage | GPU-Util  Compute M. |\n",
            "|                                         |                      |               MIG M. |\n",
            "|=========================================+======================+======================|\n",
            "|   0  Tesla V100-SXM2-16GB           Off | 00000000:00:04.0 Off |                    0 |\n",
            "| N/A   34C    P0              23W / 300W |      0MiB / 16384MiB |      0%      Default |\n",
            "|                                         |                      |                  N/A |\n",
            "+-----------------------------------------+----------------------+----------------------+\n",
            "                                                                                         \n",
            "+---------------------------------------------------------------------------------------+\n",
            "| Processes:                                                                            |\n",
            "|  GPU   GI   CI        PID   Type   Process name                            GPU Memory |\n",
            "|        ID   ID                                                             Usage      |\n",
            "|=======================================================================================|\n",
            "|  No running processes found                                                           |\n",
            "+---------------------------------------------------------------------------------------+\n"
          ]
        }
      ]
    },
    {
      "cell_type": "code",
      "source": [
        "BATCH_SIZE = 32\n",
        "IMG_SIZE = 32\n",
        "device = torch.device('cuda' if torch.cuda.is_available() else 'cpu')"
      ],
      "metadata": {
        "id": "PbNUaWnrPgoz"
      },
      "execution_count": null,
      "outputs": []
    },
    {
      "cell_type": "markdown",
      "source": [
        "# Data preprocessing"
      ],
      "metadata": {
        "id": "qX1TZtFhEENC"
      }
    },
    {
      "cell_type": "code",
      "source": [
        "## TODO\n",
        "class EITDataset(Dataset):\n",
        "    \"\"\"\n",
        "    EIT simulation data\n",
        "\n",
        "    when cond = 0.7:\n",
        "        cond_file_name = \"target_hpixel_data\"\n",
        "        vol_file_name = \"target_voltage_data\"\n",
        "\n",
        "\n",
        "    \"\"\"\n",
        "    def __init__(self, cond_file_name, vol_file_name, transform=None, train_or_test=None):\n",
        "        \"\"\"\n",
        "            args:\n",
        "                cond_file_name: The name of the conductivity file.\n",
        "                vol_file_name: The name of the voltage file.\n",
        "                transform: function for transforming data (None for Not).\n",
        "                train_or_test: generate training or test data (None for all).\n",
        "        \"\"\"\n",
        "\n",
        "        self.transform = transform\n",
        "        cond_dir = '/content/drive/MyDrive/Colab Notebooks/DDPM_EIT/EIT/' + cond_file_name + '.mat'\n",
        "        raw_dir = '/content/drive/MyDrive/Colab Notebooks/DDPM_EIT/EIT/' + vol_file_name + '.mat'\n",
        "        raw_cond = scipy.io.loadmat(cond_dir)\n",
        "        raw_vol = scipy.io.loadmat(raw_dir)\n",
        "        raw_cond[cond_file_name].shape\n",
        "        self.conductivity = np.zeros([raw_cond[cond_file_name].shape[0], int(raw_cond[cond_file_name].shape[1]/2)])\n",
        "        for j in range(raw_cond[cond_file_name].shape[0]):\n",
        "            for i in range(1024):\n",
        "                self.conductivity[j, i] = (raw_cond[cond_file_name][j, i * 2] + raw_cond[cond_file_name][j, i * 2 + 1]) / 2\n",
        "        self.conductivity = self.conductivity.reshape([self.conductivity.shape[0], 32, 32])\n",
        "        self.voltage = raw_vol[vol_file_name]\n",
        "\n",
        "        if train_or_test is not None:\n",
        "            X_train, X_test, y_train, y_test = train_test_split(self.conductivity, self.voltage, test_size=0.2, random_state=42)\n",
        "            if train_or_test == \"train\":\n",
        "                self.conductivity = X_train\n",
        "                self.voltage = y_train\n",
        "            elif train_or_test == \"test\":\n",
        "                self.conductivity = X_test\n",
        "                self.voltage = y_test\n",
        "            else:\n",
        "                raise ValueError\n",
        "\n",
        "\n",
        "    def __len__(self):\n",
        "        return len(self.conductivity)\n",
        "\n",
        "    def __getitem__(self, index):\n",
        "        return self.conductivity[index], self.voltage[index]\n",
        "\n",
        "\n"
      ],
      "metadata": {
        "id": "TRkyFbXzsW4n"
      },
      "execution_count": null,
      "outputs": []
    },
    {
      "cell_type": "markdown",
      "source": [
        "### test"
      ],
      "metadata": {
        "id": "sDh9A4Ge8Ydo"
      }
    },
    {
      "cell_type": "code",
      "source": [],
      "metadata": {
        "id": "S0fup9ugtVVo"
      },
      "execution_count": null,
      "outputs": []
    },
    {
      "cell_type": "code",
      "source": [
        "def testEITDataset():\n",
        "    test_eitdataset = EITDataset(cond_file_name = \"target_hpixel_data\", vol_file_name = \"target_voltage_data\")\n",
        "    fig, (ax1, ax2) = plt.subplots(1, 2)\n",
        "\n",
        "    # plt.imshow(cond[0].reshape([32,32]), interpolation=\"antialiased\")\n",
        "    x, y = test_eitdataset.__getitem__(1000)\n",
        "    print(test_eitdataset.__len__())\n",
        "    g1 = ax1.imshow(x, interpolation=\"gaussian\") # antialiased\n",
        "    plt.colorbar(g1, ax=ax1)\n",
        "\n",
        "    g2 = ax2.imshow(y.reshape([12, 16]))\n",
        "    plt.colorbar(g2, ax=ax2)\n",
        "    plt.show()\n",
        "\n",
        "testEITDataset()\n"
      ],
      "metadata": {
        "colab": {
          "base_uri": "https://localhost:8080/",
          "height": 431
        },
        "id": "ftomLBPr40BH",
        "outputId": "ab50334e-052a-4a5e-8d5a-49e4f3b81202"
      },
      "execution_count": null,
      "outputs": [
        {
          "output_type": "stream",
          "name": "stdout",
          "text": [
            "6349\n"
          ]
        },
        {
          "output_type": "display_data",
          "data": {
            "text/plain": [
              "<Figure size 640x480 with 4 Axes>"
            ],
            "image/png": "[encoded data removed]"
          },
          "metadata": {}
        }
      ]
    },
    {
      "cell_type": "markdown",
      "source": [
        "## Load"
      ],
      "metadata": {
        "id": "L9ONJKqID-gv"
      }
    },
    {
      "cell_type": "code",
      "source": [
        "def load_transformed_dataset(default_cond=None, default_radius=None, is_transform=True, if_split=False, dataset_type=\"train\"):\n",
        "\n",
        "    if default_cond is None and default_radius is None:\n",
        "        cond_file_name = \"target_hpixel_data\"\n",
        "        vol_file_name = \"target_voltage_data\"\n",
        "    else:\n",
        "        cond_file_name = \"cond=\" + str(default_cond) + \"radius=\" + str(default_radius) + \"_target_hpixel_data\"\n",
        "        vol_file_name = \"cond=\" + str(default_cond) + \"radius=\" + str(default_radius) + \"_target_voltage_data\"\n",
        "\n",
        "    data_transforms = [\n",
        "        # transforms.Resize((IMG_SIZE, IMG_SIZE)),\n",
        "\n",
        "        transforms.ToTensor(), # Scales data into [0,1] ???\n",
        "        transforms.Lambda(lambda t: (t * 2) - 1) # Scale between [-1, 1]\n",
        "    ]\n",
        "    if is_transform is True and if_split is False:\n",
        "        data_transform = transforms.Compose(data_transforms)\n",
        "        data = EITDataset(cond_file_name=cond_file_name, vol_file_name=vol_file_name, transform=data_transform)\n",
        "        return data\n",
        "\n",
        "    if is_transform is True and if_split is True:\n",
        "        data_transform = transforms.Compose(data_transforms)\n",
        "        if dataset_type == \"train\" or dataset_type == \"test\":\n",
        "            return EITDataset(cond_file_name=cond_file_name, vol_file_name=vol_file_name, transform=data_transform, train_or_test=dataset_type)\n",
        "        else:\n",
        "            raise ValueError\n",
        "    if is_transform is not True and if_split is False:\n",
        "        data = EITDataset(cond_file_name=cond_file_name, vol_file_name=vol_file_name)\n",
        "        return data\n",
        "\n",
        "    if is_transform is not True and if_split is True:\n",
        "        if dataset_type == \"train\" or dataset_type == \"test\":\n",
        "            return EITDataset(cond_file_name=cond_file_name, vol_file_name=vol_file_name, transform=data_transform, train_or_test=dataset_type)\n",
        "        else:\n",
        "            raise ValueError\n"
      ],
      "metadata": {
        "id": "FaGjnXJrEAuo"
      },
      "execution_count": null,
      "outputs": []
    },
    {
      "cell_type": "code",
      "source": [
        "\n",
        "\n",
        "data = load_transformed_dataset(if_split=True)\n",
        "dataloader = DataLoader(data, batch_size=BATCH_SIZE, shuffle=True, drop_last=True)"
      ],
      "metadata": {
        "id": "_seZ7I8WJzJi"
      },
      "execution_count": null,
      "outputs": []
    },
    {
      "cell_type": "code",
      "source": [
        "train_data = load_transformed_dataset(if_split=True)\n",
        "test_data = load_transformed_dataset(if_split=True, dataset_type=\"test\")\n",
        "train_loader = DataLoader(train_data, batch_size=BATCH_SIZE, shuffle=True, drop_last=True)\n",
        "test_loader = DataLoader(test_data, batch_size=BATCH_SIZE, shuffle=True, drop_last=True)"
      ],
      "metadata": {
        "id": "_YudqaNRuDeI"
      },
      "execution_count": null,
      "outputs": []
    },
    {
      "cell_type": "markdown",
      "source": [
        "### for testing dataloader"
      ],
      "metadata": {
        "id": "AzzHlS3_uOqy"
      }
    },
    {
      "cell_type": "code",
      "source": [
        "image = next(iter(dataloader))"
      ],
      "metadata": {
        "id": "zaHKQn72uyuk"
      },
      "execution_count": null,
      "outputs": []
    },
    {
      "cell_type": "markdown",
      "source": [
        "### for showing image"
      ],
      "metadata": {
        "id": "lnlIMRzywHs1"
      }
    },
    {
      "cell_type": "code",
      "source": [
        "def show_image(cond, voltage=None):\n",
        "    \"\"\"This function is for showing image of conductivity and voltage.\"\"\"\n",
        "    if voltage is not None:\n",
        "        fig, (ax1, ax2) = plt.subplots(1, 2)\n",
        "\n",
        "        # plt.imshow(cond[0].reshape([32,32]), interpolation=\"antialiased\")\n",
        "\n",
        "        g1 = ax1.imshow(cond, interpolation=\"gaussian\") # antialiased\n",
        "        plt.colorbar(g1, ax=ax1)\n",
        "\n",
        "        g2 = ax2.imshow(voltage.reshape([12, 16]))\n",
        "        plt.colorbar(g2, ax=ax2)\n",
        "        plt.show()\n",
        "    else:\n",
        "        plt.imshow(cond, interpolation=\"gaussian\") # antialiased\n",
        "        plt.colorbar()\n",
        "        plt.show()\n",
        "\n"
      ],
      "metadata": {
        "id": "SpGX4EYovQoI"
      },
      "execution_count": null,
      "outputs": []
    },
    {
      "cell_type": "code",
      "source": [
        "show_image(image[0][0], image[1][0])"
      ],
      "metadata": {
        "colab": {
          "base_uri": "https://localhost:8080/",
          "height": 415
        },
        "id": "z4OJy6WLwKOj",
        "outputId": "5c5b7196-adea-4d39-cd52-bdde306bc43f"
      },
      "execution_count": null,
      "outputs": [
        {
          "output_type": "display_data",
          "data": {
            "text/plain": [
              "<Figure size 640x480 with 4 Axes>"
            ],
            "image/png": "[encoded data removed]"
          },
          "metadata": {}
        }
      ]
    },
    {
      "cell_type": "code",
      "source": [
        "image[1][0].shape"
      ],
      "metadata": {
        "colab": {
          "base_uri": "https://localhost:8080/"
        },
        "id": "ldnn_67HDTHa",
        "outputId": "5b990f30-a5ee-4865-e6f2-5cf4dc4ca19e"
      },
      "execution_count": null,
      "outputs": [
        {
          "output_type": "execute_result",
          "data": {
            "text/plain": [
              "torch.Size([192])"
            ]
          },
          "metadata": {},
          "execution_count": 35
        }
      ]
    },
    {
      "cell_type": "markdown",
      "source": [
        "## for test"
      ],
      "metadata": {
        "id": "GYrUiE4H5Gtv"
      }
    },
    {
      "cell_type": "code",
      "source": [
        "cond_file_name = \"target_hpixel_data\"\n",
        "vol_file_name = \"target_voltage_data\"\n",
        "cond_dir = '/content/drive/MyDrive/Colab Notebooks/DDPM_EIT/EIT/' + cond_file_name + '.mat'\n",
        "raw_dir = '/content/drive/MyDrive/Colab Notebooks/DDPM_EIT/EIT/' + vol_file_name + '.mat'\n",
        "raw_cond = scipy.io.loadmat(cond_dir)\n",
        "raw_vol = scipy.io.loadmat(raw_dir)\n",
        "\n"
      ],
      "metadata": {
        "id": "IJ9AdOeKwbsg"
      },
      "execution_count": null,
      "outputs": []
    },
    {
      "cell_type": "code",
      "source": [
        "raw_cond[cond_file_name].shape\n",
        "cond = np.zeros([raw_cond[cond_file_name].shape[0], int(raw_cond[cond_file_name].shape[1]/2)])"
      ],
      "metadata": {
        "id": "O1llILtLw2Ue"
      },
      "execution_count": null,
      "outputs": []
    },
    {
      "cell_type": "code",
      "source": [],
      "metadata": {
        "colab": {
          "base_uri": "https://localhost:8080/"
        },
        "id": "RKKLKJ21yWRF",
        "outputId": "d095ffd7-7f2b-48d2-9623-896a426d8e8b"
      },
      "execution_count": null,
      "outputs": [
        {
          "output_type": "execute_result",
          "data": {
            "text/plain": [
              "(6349, 192)"
            ]
          },
          "metadata": {},
          "execution_count": 47
        }
      ]
    },
    {
      "cell_type": "code",
      "source": [
        "for j in range(raw_cond[cond_file_name].shape[0]):\n",
        "    for i in range(1024):\n",
        "        cond[j, i] = (raw_cond[cond_file_name][j, i * 2] + raw_cond[cond_file_name][j, i * 2 + 1]) / 2"
      ],
      "metadata": {
        "id": "3nfLKO9nylD6"
      },
      "execution_count": null,
      "outputs": []
    },
    {
      "cell_type": "code",
      "source": [
        "cond = cond.reshape([cond.shape[0], 32, 32])"
      ],
      "metadata": {
        "id": "evHEUNzO0IwW"
      },
      "execution_count": null,
      "outputs": []
    },
    {
      "cell_type": "code",
      "source": [
        "import numpy as np\n",
        "import matplotlib.pyplot as plt\n",
        "\n",
        "# plt.imshow(cond[0].reshape([32,32]), interpolation=\"antialiased\")\n",
        "plt.imshow(cond[1000], interpolation=\"gaussian\") # antialiased\n",
        "plt.colorbar()\n",
        "plt.show()"
      ],
      "metadata": {
        "colab": {
          "base_uri": "https://localhost:8080/",
          "height": 435
        },
        "id": "e8kkjIiGy2AT",
        "outputId": "ceb19426-5b57-41e4-d42a-e3776612e13a"
      },
      "execution_count": null,
      "outputs": [
        {
          "output_type": "display_data",
          "data": {
            "text/plain": [
              "<Figure size 640x480 with 2 Axes>"
            ],
            "image/png": "[encoded data removed]"
          },
          "metadata": {}
        }
      ]
    },
    {
      "cell_type": "code",
      "source": [
        "plt.imshow(raw_vol[vol_file_name][0].reshape([12,16]))\n",
        "plt.colorbar()\n",
        "plt.show()"
      ],
      "metadata": {
        "colab": {
          "base_uri": "https://localhost:8080/",
          "height": 406
        },
        "id": "tpgUKtzS4cvj",
        "outputId": "daefbdfa-a881-49aa-b718-c3242a3a14b9"
      },
      "execution_count": null,
      "outputs": [
        {
          "output_type": "display_data",
          "data": {
            "text/plain": [
              "<Figure size 640x480 with 2 Axes>"
            ],
            "image/png": "[encoded data removed]"
          },
          "metadata": {}
        }
      ]
    },
    {
      "cell_type": "markdown",
      "source": [
        "# Forward"
      ],
      "metadata": {
        "id": "KnBdWVOk5J9j"
      }
    },
    {
      "cell_type": "code",
      "source": [
        "def cosine_beta_schedule(timesteps, s=0.008):\n",
        "    \"\"\"\n",
        "    cosine schedule as proposed in https://arxiv.org/abs/2102.09672\n",
        "    \"\"\"\n",
        "    steps = timesteps + 1\n",
        "    x = torch.linspace(0, timesteps, steps)\n",
        "    alphas_cumprod = torch.cos(((x / timesteps) + s) / (1 + s) * torch.pi * 0.5) ** 2\n",
        "    alphas_cumprod = alphas_cumprod / alphas_cumprod[0]\n",
        "    betas = 1 - (alphas_cumprod[1:] / alphas_cumprod[:-1])\n",
        "    return torch.clip(betas, 0.0001, 0.9999)"
      ],
      "metadata": {
        "id": "8HVpGJn45NAD"
      },
      "execution_count": null,
      "outputs": []
    },
    {
      "cell_type": "code",
      "source": [
        "timesteps = 200\n",
        "\n",
        "# define beta schedule\n",
        "betas = cosine_beta_schedule(timesteps=timesteps)\n",
        "\n",
        "# define alphas\n",
        "alphas = 1. - betas\n",
        "alphas_cumprod = torch.cumprod(alphas, axis=0) #cumulative product\n",
        "alphas_cumprod_prev = F.pad(alphas_cumprod[:-1], (1, 0), value=1.0)\n",
        "sqrt_recip_alphas = torch.sqrt(1.0 / alphas)\n",
        "\n",
        "# calculations for diffusion q(x_t | x_{t-1}) and others\n",
        "sqrt_alphas_cumprod = torch.sqrt(alphas_cumprod)\n",
        "sqrt_one_minus_alphas_cumprod = torch.sqrt(1. - alphas_cumprod)\n",
        "\n",
        "# calculations for posterior q(x_{t-1} | x_t, x_0)\n",
        "posterior_variance = betas * (1. - alphas_cumprod_prev) / (1. - alphas_cumprod)\n",
        "\n",
        "def extract(a, t, x_shape):\n",
        "    batch_size = t.shape[0]\n",
        "    out = a.gather(-1, t.cpu())\n",
        "    return out.reshape(batch_size, *((1,) * (len(x_shape) - 1))).to(t.device)"
      ],
      "metadata": {
        "id": "5XVl0kjloRq5"
      },
      "execution_count": null,
      "outputs": []
    },
    {
      "cell_type": "code",
      "source": [
        "# show beta\n",
        "plt.plot([x for x in range(len(betas))], posterior_variance)"
      ],
      "metadata": {
        "id": "j3ZGoqqrDndS"
      },
      "execution_count": null,
      "outputs": []
    },
    {
      "cell_type": "code",
      "source": [
        "def q_sample(x_start, t, noise=None):\n",
        "    if noise is None:\n",
        "        noise = torch.randn_like(x_start)\n",
        "\n",
        "    sqrt_alphas_cumprod_t = extract(sqrt_alphas_cumprod, t, x_start.shape)\n",
        "    sqrt_one_minus_alphas_cumprod_t = extract(\n",
        "        sqrt_one_minus_alphas_cumprod, t, x_start.shape\n",
        "    )\n",
        "\n",
        "    return sqrt_alphas_cumprod_t * x_start + sqrt_one_minus_alphas_cumprod_t * noise"
      ],
      "metadata": {
        "id": "zHBFx4wQGjIM"
      },
      "execution_count": null,
      "outputs": []
    },
    {
      "cell_type": "code",
      "source": [
        "def get_noisy_image(x_start, t):\n",
        "    # add noise\n",
        "    x_noisy = q_sample(x_start, t=t)\n",
        "\n",
        "    # turn back into PIL image\n",
        "    show_image(x_noisy)"
      ],
      "metadata": {
        "id": "B99UdaOLGolw"
      },
      "execution_count": null,
      "outputs": []
    },
    {
      "cell_type": "code",
      "source": [
        "t = torch.tensor([4])\n",
        "get_noisy_image(image[0][0], t)"
      ],
      "metadata": {
        "colab": {
          "base_uri": "https://localhost:8080/",
          "height": 430
        },
        "id": "BOdtUZETHPMR",
        "outputId": "dcb1dd71-b2b8-4b02-adf2-f0a9dec1310a"
      },
      "execution_count": null,
      "outputs": [
        {
          "output_type": "display_data",
          "data": {
            "text/plain": [
              "<Figure size 640x480 with 2 Axes>"
            ],
            "image/png": "[encoded data removed]"
          },
          "metadata": {}
        }
      ]
    },
    {
      "cell_type": "markdown",
      "source": [],
      "metadata": {
        "id": "mu3zg4LvrMb5"
      }
    },
    {
      "cell_type": "markdown",
      "source": [
        "## Pre-train Block\n",
        "\n",
        "https://github.com/moein-shariatnia/OpenAI-CLIP/blob/master/OpenAI%20CLIP%20Simple%20Implementation.ipynb"
      ],
      "metadata": {
        "id": "axa867_BoB1F"
      }
    },
    {
      "cell_type": "markdown",
      "source": [
        "### test respectively"
      ],
      "metadata": {
        "id": "TjyaKfIQO_7d"
      }
    },
    {
      "cell_type": "code",
      "source": [
        "class Bottleneck(nn.Module):\n",
        "    expansion = 4\n",
        "\n",
        "    def __init__(self, inplanes, planes, stride=1):\n",
        "        super().__init__()\n",
        "\n",
        "        # all conv layers have stride 1. an avgpool is performed after the second convolution when stride > 1\n",
        "        self.conv1 = nn.Conv2d(inplanes, planes, 1, bias=False)\n",
        "        self.bn1 = nn.BatchNorm2d(planes)\n",
        "        self.relu1 = nn.ReLU(inplace=True)\n",
        "\n",
        "        self.conv2 = nn.Conv2d(planes, planes, 3, padding=1, bias=False)\n",
        "        self.bn2 = nn.BatchNorm2d(planes)\n",
        "        self.relu2 = nn.ReLU(inplace=True)\n",
        "\n",
        "        self.avgpool = nn.AvgPool2d(stride) if stride > 1 else nn.Identity()\n",
        "\n",
        "        self.conv3 = nn.Conv2d(planes, planes * self.expansion, 1, bias=False)\n",
        "        self.bn3 = nn.BatchNorm2d(planes * self.expansion)\n",
        "        self.relu3 = nn.ReLU(inplace=True)\n",
        "\n",
        "        self.downsample = None\n",
        "        self.stride = stride\n",
        "\n",
        "        if stride > 1 or inplanes != planes * Bottleneck.expansion:\n",
        "            # downsampling layer is prepended with an avgpool, and the subsequent convolution has stride 1\n",
        "            self.downsample = nn.Sequential(OrderedDict([\n",
        "                (\"-1\", nn.AvgPool2d(stride)),\n",
        "                (\"0\", nn.Conv2d(inplanes, planes * self.expansion, 1, stride=1, bias=False)),\n",
        "                (\"1\", nn.BatchNorm2d(planes * self.expansion))\n",
        "            ]))\n",
        "\n",
        "    def forward(self, x: torch.Tensor):\n",
        "        identity = x\n",
        "\n",
        "        out = self.relu1(self.bn1(self.conv1(x)))\n",
        "        out = self.relu2(self.bn2(self.conv2(out)))\n",
        "        out = self.avgpool(out)\n",
        "        out = self.bn3(self.conv3(out))\n",
        "\n",
        "        if self.downsample is not None:\n",
        "            identity = self.downsample(x)\n",
        "\n",
        "        out += identity\n",
        "        out = self.relu3(out)\n",
        "        return out"
      ],
      "metadata": {
        "id": "ca6SQjZwO9_j"
      },
      "execution_count": null,
      "outputs": []
    },
    {
      "cell_type": "code",
      "source": [
        "mode_t = Bottleneck(1, 32)"
      ],
      "metadata": {
        "id": "rqWxIXZ_PHza"
      },
      "execution_count": null,
      "outputs": []
    },
    {
      "cell_type": "code",
      "source": [
        "x = torch.randn(32, 1, 32, 32)"
      ],
      "metadata": {
        "id": "3UU-wvOkPVGK"
      },
      "execution_count": null,
      "outputs": []
    },
    {
      "cell_type": "code",
      "source": [
        "mode_t(x).shape"
      ],
      "metadata": {
        "colab": {
          "base_uri": "https://localhost:8080/"
        },
        "id": "S_7FvZG6PPm3",
        "outputId": "4562012e-1378-40a5-beb7-eb422fa6ec7d"
      },
      "execution_count": null,
      "outputs": [
        {
          "output_type": "execute_result",
          "data": {
            "text/plain": [
              "torch.Size([32, 128, 32, 32])"
            ]
          },
          "metadata": {},
          "execution_count": 44
        }
      ]
    },
    {
      "cell_type": "code",
      "source": [
        "class AttentionPool2d(nn.Module):\n",
        "    def __init__(self, spacial_dim: int, embed_dim: int, num_heads: int, output_dim: int = None):\n",
        "        super().__init__()\n",
        "        self.positional_embedding = nn.Parameter(torch.randn(spacial_dim ** 2 + 1, embed_dim) / embed_dim ** 0.5)\n",
        "        self.k_proj = nn.Linear(embed_dim, embed_dim)\n",
        "        self.q_proj = nn.Linear(embed_dim, embed_dim)\n",
        "        self.v_proj = nn.Linear(embed_dim, embed_dim)\n",
        "        self.c_proj = nn.Linear(embed_dim, output_dim or embed_dim)\n",
        "        self.num_heads = num_heads\n",
        "\n",
        "    def forward(self, x):\n",
        "        x = x.flatten(start_dim=2).permute(2, 0, 1)  # NCHW -> (HW)NC\n",
        "        x = torch.cat([x.mean(dim=0, keepdim=True), x], dim=0)  # (HW+1)NC\n",
        "        x = x + self.positional_embedding[:, None, :].to(x.dtype)  # (HW+1)NC\n",
        "        x, _ = F.multi_head_attention_forward(\n",
        "            query=x[:1], key=x, value=x,\n",
        "            embed_dim_to_check=x.shape[-1],\n",
        "            num_heads=self.num_heads,\n",
        "            q_proj_weight=self.q_proj.weight,\n",
        "            k_proj_weight=self.k_proj.weight,\n",
        "            v_proj_weight=self.v_proj.weight,\n",
        "            in_proj_weight=None,\n",
        "            in_proj_bias=torch.cat([self.q_proj.bias, self.k_proj.bias, self.v_proj.bias]),\n",
        "            bias_k=None,\n",
        "            bias_v=None,\n",
        "            add_zero_attn=False,\n",
        "            dropout_p=0,\n",
        "            out_proj_weight=self.c_proj.weight,\n",
        "            out_proj_bias=self.c_proj.bias,\n",
        "            use_separate_proj_weight=True,\n",
        "            training=self.training,\n",
        "            need_weights=False\n",
        "        )\n",
        "        return x.squeeze(0)\n",
        "\n"
      ],
      "metadata": {
        "id": "M2zZsylQQNIc"
      },
      "execution_count": null,
      "outputs": []
    },
    {
      "cell_type": "code",
      "source": [
        "spacial_dim = 32\n",
        "embed_dim = 2048\n",
        "\n",
        "nn.Parameter(torch.randn(spacial_dim ** 2 + 1, embed_dim) / embed_dim ** 0.5).shape"
      ],
      "metadata": {
        "colab": {
          "base_uri": "https://localhost:8080/"
        },
        "id": "XIDz51G3SjCy",
        "outputId": "2f30fff5-5947-486d-f6a4-1cbf5c80339b"
      },
      "execution_count": null,
      "outputs": [
        {
          "output_type": "execute_result",
          "data": {
            "text/plain": [
              "torch.Size([1025, 2048])"
            ]
          },
          "metadata": {},
          "execution_count": 14
        }
      ]
    },
    {
      "cell_type": "code",
      "source": [
        "spacial_dim = 32\n",
        "embed_dim = 64\n",
        "head = 8\n",
        "output_dim = 8\n",
        "att_t = AttentionPool2d(spacial_dim // 32, embed_dim * 32, head, output_dim)\n",
        "\n",
        "att_t(torch.randn(100, 2048, 1, 1)).shape"
      ],
      "metadata": {
        "colab": {
          "base_uri": "https://localhost:8080/"
        },
        "id": "ndundIsVQPF9",
        "outputId": "f032109a-0b2a-456a-dc61-a46445e37130"
      },
      "execution_count": null,
      "outputs": [
        {
          "output_type": "execute_result",
          "data": {
            "text/plain": [
              "torch.Size([100, 8])"
            ]
          },
          "metadata": {},
          "execution_count": 12
        }
      ]
    },
    {
      "cell_type": "code",
      "source": [
        "class ModifiedResNet(nn.Module):\n",
        "    \"\"\"\n",
        "    A ResNet class that is similar to torchvision's but contains the following changes:\n",
        "    - There are now 3 \"stem\" convolutions as opposed to 1, with an average pool instead of a max pool.\n",
        "    - Performs anti-aliasing strided convolutions, where an avgpool is prepended to convolutions with stride > 1\n",
        "    - The final pooling layer is a QKV attention instead of an average pool\n",
        "    \"\"\"\n",
        "\n",
        "    def __init__(self, layers, output_dim, heads, input_resolution=32, width=128):\n",
        "        super().__init__()\n",
        "        self.output_dim = output_dim\n",
        "        self.input_resolution = input_resolution\n",
        "\n",
        "        # the 3-layer stem\n",
        "        self.conv1 = nn.Conv2d(1, width // 2, kernel_size=3, stride=2, padding=1, bias=False)\n",
        "        self.bn1 = nn.BatchNorm2d(width // 2)\n",
        "        self.relu1 = nn.ReLU(inplace=True)\n",
        "        self.conv2 = nn.Conv2d(width // 2, width // 2, kernel_size=3, padding=1, bias=False)\n",
        "        self.bn2 = nn.BatchNorm2d(width // 2)\n",
        "        self.relu2 = nn.ReLU(inplace=True)\n",
        "        self.conv3 = nn.Conv2d(width // 2, width, kernel_size=3, padding=1, bias=False)\n",
        "        self.bn3 = nn.BatchNorm2d(width)\n",
        "        self.relu3 = nn.ReLU(inplace=True)\n",
        "        self.avgpool = nn.AvgPool2d(2)\n",
        "\n",
        "        # residual layers\n",
        "        self._inplanes = width  # this is a *mutable* variable used during construction\n",
        "        self.layer1 = self._make_layer(width, layers[0])\n",
        "        self.layer2 = self._make_layer(width * 2, layers[1], stride=2)\n",
        "        self.layer3 = self._make_layer(width * 4, layers[2], stride=2)\n",
        "        self.layer4 = self._make_layer(width * 8, layers[3], stride=2)\n",
        "\n",
        "        embed_dim = width * 32  # the ResNet feature dimension\n",
        "        self.attnpool = AttentionPool2d(input_resolution // 32, embed_dim, heads, output_dim)\n",
        "\n",
        "    def _make_layer(self, planes, blocks, stride=1):\n",
        "        layers = [Bottleneck(self._inplanes, planes, stride)]\n",
        "\n",
        "        self._inplanes = planes * Bottleneck.expansion\n",
        "        for _ in range(1, blocks):\n",
        "            layers.append(Bottleneck(self._inplanes, planes))\n",
        "\n",
        "        return nn.Sequential(*layers)\n",
        "\n",
        "    def forward(self, x):\n",
        "        def stem(x):\n",
        "            x = self.relu1(self.bn1(self.conv1(x)))\n",
        "            x = self.relu2(self.bn2(self.conv2(x)))\n",
        "            x = self.relu3(self.bn3(self.conv3(x)))\n",
        "            x = self.avgpool(x)\n",
        "            return x\n",
        "\n",
        "        x = x.type(self.conv1.weight.dtype)\n",
        "        x = stem(x)\n",
        "        x = self.layer1(x)\n",
        "        x = self.layer2(x)\n",
        "        x = self.layer3(x)\n",
        "        x = self.layer4(x)\n",
        "        x = self.attnpool(x)\n",
        "\n",
        "        return x\n"
      ],
      "metadata": {
        "id": "EUovcwmVRVga"
      },
      "execution_count": null,
      "outputs": []
    },
    {
      "cell_type": "code",
      "source": [
        "test_model = ModifiedResNet([3, 4, 6, 3], output_dim=1024, heads=64)\n",
        "test_model(torch.randn(32, 1, 32, 32)).shape"
      ],
      "metadata": {
        "colab": {
          "base_uri": "https://localhost:8080/"
        },
        "id": "21qwlrmJRa6j",
        "outputId": "545d17a5-7123-4ec1-9050-1b565387becc"
      },
      "execution_count": null,
      "outputs": [
        {
          "output_type": "execute_result",
          "data": {
            "text/plain": [
              "torch.Size([32, 1024])"
            ]
          },
          "metadata": {},
          "execution_count": 62
        }
      ]
    },
    {
      "cell_type": "code",
      "source": [
        "class LayerNorm(nn.LayerNorm):\n",
        "    \"\"\"Subclass torch's LayerNorm to handle fp16.\"\"\"\n",
        "\n",
        "    def forward(self, x: torch.Tensor):\n",
        "        orig_type = x.dtype\n",
        "        ret = super().forward(x.type(torch.float32))\n",
        "        return ret.type(orig_type)\n",
        "\n",
        "\n",
        "class QuickGELU(nn.Module):\n",
        "    def forward(self, x: torch.Tensor):\n",
        "        return x * torch.sigmoid(1.702 * x)\n",
        "\n",
        "class ResidualAttentionBlock(nn.Module):\n",
        "    def __init__(self, d_model: int, n_head: int, attn_mask: torch.Tensor = None):\n",
        "        super().__init__()\n",
        "\n",
        "        self.attn = nn.MultiheadAttention(d_model, n_head)\n",
        "        self.ln_1 = LayerNorm(d_model)\n",
        "        self.mlp = nn.Sequential(OrderedDict([\n",
        "            (\"c_fc\", nn.Linear(d_model, d_model * 4)),\n",
        "            (\"gelu\", QuickGELU()),\n",
        "            (\"c_proj\", nn.Linear(d_model * 4, d_model))\n",
        "        ]))\n",
        "        self.ln_2 = LayerNorm(d_model)\n",
        "        self.attn_mask = attn_mask\n",
        "\n",
        "    def attention(self, x: torch.Tensor):\n",
        "        self.attn_mask = self.attn_mask.to(dtype=x.dtype, device=x.device) if self.attn_mask is not None else None\n",
        "        return self.attn(x, x, x, need_weights=False, attn_mask=self.attn_mask)[0]\n",
        "\n",
        "    def forward(self, x: torch.Tensor):\n",
        "        x = x + self.attention(self.ln_1(x))\n",
        "        x = x + self.mlp(self.ln_2(x))\n",
        "        return x\n",
        "\n",
        "class Transformer(nn.Module):\n",
        "    def __init__(self, width: int, layers: int, heads: int, attn_mask: torch.Tensor = None):\n",
        "        super().__init__()\n",
        "        self.width = width\n",
        "        self.layers = layers\n",
        "        self.mlp = nn.Linear(192, width)\n",
        "        self.resblocks = nn.Sequential(*[ResidualAttentionBlock(width, heads, attn_mask) for _ in range(layers)])\n",
        "\n",
        "    def forward(self, x: torch.Tensor):\n",
        "        x = self.mlp(x)\n",
        "        return self.resblocks(x)\n"
      ],
      "metadata": {
        "id": "aM-gSemd_4fZ"
      },
      "execution_count": null,
      "outputs": []
    },
    {
      "cell_type": "code",
      "source": [
        "ra = Transformer(1024, 3, 8)\n",
        "\n",
        "ra(torch.randn(32, 192)).type()"
      ],
      "metadata": {
        "colab": {
          "base_uri": "https://localhost:8080/",
          "height": 35
        },
        "id": "ogPOwuzvAPPq",
        "outputId": "983fe177-39f3-44ca-a0a7-1092c534d870"
      },
      "execution_count": null,
      "outputs": [
        {
          "output_type": "execute_result",
          "data": {
            "text/plain": [
              "'torch.FloatTensor'"
            ],
            "application/vnd.google.colaboratory.intrinsic+json": {
              "type": "string"
            }
          },
          "metadata": {},
          "execution_count": 90
        }
      ]
    },
    {
      "cell_type": "markdown",
      "source": [
        "## build CLIP"
      ],
      "metadata": {
        "id": "_VzgPBUHHtH0"
      }
    },
    {
      "cell_type": "code",
      "source": [
        "class CLIP(nn.Module):\n",
        "    def __init__(self,\n",
        "                 embed_dim: int,\n",
        "                 image_resolution: int,\n",
        "                 vision_layers: Union[Tuple[int, int, int, int], int],\n",
        "                 vision_width: int,\n",
        "                 transformer_width: int,\n",
        "                 transformer_heads: int,\n",
        "                 transformer_layers: int\n",
        "                 ):\n",
        "\n",
        "        \"\"\"\n",
        "        embed_dim is the dimention of the vectors for calculating similarity: default: 1024(512)\n",
        "        transformer_width: the same as embed_dim: 1024(512)\n",
        "\n",
        "        image_resolution: 32\n",
        "        vision_layer: Default: Resnet-50 [3, 4, 6, 3]\n",
        "        vision_width: Default: 128\n",
        "        transformer_heads: 8\n",
        "        transformer_layers: 3\n",
        "\n",
        "        \"\"\"\n",
        "\n",
        "        super().__init__()\n",
        "        # self.context_length = context_length\n",
        "\n",
        "        vision_heads = vision_width * 32 // 64\n",
        "        self.visual = ModifiedResNet(\n",
        "            layers=vision_layers,\n",
        "            output_dim=embed_dim,\n",
        "            heads=vision_heads,\n",
        "            input_resolution=image_resolution,\n",
        "            width=vision_width)\n",
        "\n",
        "        self.transformer = Transformer(\n",
        "            width=transformer_width,\n",
        "            layers=transformer_layers,\n",
        "            heads=transformer_heads,\n",
        "        )\n",
        "\n",
        "        self.ln_final = LayerNorm(transformer_width)\n",
        "\n",
        "        self.initialize_parameters()\n",
        "        self.logit_scale = nn.Parameter(torch.ones([]) * np.log(1 / 0.07))\n",
        "\n",
        "    def initialize_parameters(self):\n",
        "\n",
        "        if self.visual.attnpool is not None:\n",
        "            std = self.visual.attnpool.c_proj.in_features ** -0.5\n",
        "            nn.init.normal_(self.visual.attnpool.q_proj.weight, std=std)\n",
        "            nn.init.normal_(self.visual.attnpool.k_proj.weight, std=std)\n",
        "            nn.init.normal_(self.visual.attnpool.v_proj.weight, std=std)\n",
        "            nn.init.normal_(self.visual.attnpool.c_proj.weight, std=std)\n",
        "\n",
        "        for resnet_block in [self.visual.layer1, self.visual.layer2, self.visual.layer3, self.visual.layer4]:\n",
        "            for name, param in resnet_block.named_parameters():\n",
        "                if name.endswith(\"bn3.weight\"):\n",
        "                    nn.init.zeros_(param)\n",
        "\n",
        "        proj_std = (self.transformer.width ** -0.5) * ((2 * self.transformer.layers) ** -0.5)\n",
        "        attn_std = self.transformer.width ** -0.5\n",
        "        fc_std = (2 * self.transformer.width) ** -0.5\n",
        "        for block in self.transformer.resblocks:\n",
        "            nn.init.normal_(block.attn.in_proj_weight, std=attn_std)\n",
        "            nn.init.normal_(block.attn.out_proj.weight, std=proj_std)\n",
        "            nn.init.normal_(block.mlp.c_fc.weight, std=fc_std)\n",
        "            nn.init.normal_(block.mlp.c_proj.weight, std=proj_std)\n",
        "\n",
        "    @property\n",
        "    def dtype(self):\n",
        "        return self.visual.conv1.weight.dtype\n",
        "\n",
        "    def encode_image(self, image):\n",
        "        return self.visual(image.type(self.dtype))\n",
        "\n",
        "    def encode_voltages(self, x):\n",
        "\n",
        "\n",
        "\n",
        "        x = self.transformer(x).type(self.dtype)\n",
        "\n",
        "        x = self.ln_final(x).type(self.dtype)\n",
        "\n",
        "        # x.shape = [batch_size, n_ctx, transformer.width]\n",
        "        # take features from the eot embedding (eot_token is the highest number in each sequence)\n",
        "        return x\n",
        "\n",
        "    def forward(self, image, voltages):\n",
        "        image_features = self.encode_image(image)\n",
        "        voltages_features = self.encode_voltages(voltages)\n",
        "\n",
        "         # normalized features\n",
        "        image_features = image_features / image_features.norm(dim=1, keepdim=True)\n",
        "        voltages_features = voltages_features / voltages_features.norm(dim=1, keepdim=True)\n",
        "\n",
        "        # cosine similarity as logits\n",
        "        logit_scale = self.logit_scale.exp()\n",
        "        logits_per_image = logit_scale * image_features @ voltages_features.t()\n",
        "        logits_per_voltages = logits_per_image.t()\n",
        "\n",
        "        # shape = [global_batch_size, global_batch_size]\n",
        "        return logits_per_image, logits_per_voltages\n"
      ],
      "metadata": {
        "id": "WHI2Roy6DmDM"
      },
      "execution_count": null,
      "outputs": []
    },
    {
      "cell_type": "code",
      "source": [
        "clip_m = CLIP(embed_dim=1024,\n",
        "              image_resolution=32,\n",
        "              vision_layers=[3, 4, 6, 3],\n",
        "              vision_width=128,\n",
        "              transformer_width=1024,\n",
        "              transformer_heads=8,\n",
        "              transformer_layers=3\n",
        "              )"
      ],
      "metadata": {
        "id": "tUC_Lg8HFqXp"
      },
      "execution_count": null,
      "outputs": []
    },
    {
      "cell_type": "code",
      "source": [
        "simi_1, simi_2 = clip_m(image[0].unsqueeze(1).to(torch.float32), image[1].to(torch.float32))"
      ],
      "metadata": {
        "id": "ylixHJAGN83b"
      },
      "execution_count": null,
      "outputs": []
    },
    {
      "cell_type": "code",
      "source": [
        "cross_entropy_loss = torch.nn.CrossEntropyLoss()"
      ],
      "metadata": {
        "id": "ehpiNdgjSzsj"
      },
      "execution_count": null,
      "outputs": []
    },
    {
      "cell_type": "code",
      "source": [
        "labels = torch.arange(32, device = device)\n",
        "loss_i = cross_entropy_loss(simi_1, labels)\n",
        "loss_t = cross_entropy_loss(simi_2, labels)\n",
        "loss = (loss_i + loss_t)/2"
      ],
      "metadata": {
        "id": "l_PD8mo3ZI2B"
      },
      "execution_count": null,
      "outputs": []
    },
    {
      "cell_type": "markdown",
      "source": [
        "### show similarity matrix"
      ],
      "metadata": {
        "id": "gvXpw6SrVa0V"
      }
    },
    {
      "cell_type": "code",
      "source": [
        "\n",
        "# simi = simi_1.detach().numpy()[0:10, 0:10]\n",
        "simi = simi_2.detach().numpy()[0:10, 0:10]\n",
        "plt.imshow(simi, vmin=0.1, vmax=0.3)\n",
        "for x in range(simi.shape[1]):\n",
        "    for y in range(simi.shape[0]):\n",
        "        plt.text(x, y, f\"{simi[y, x]:.2f}\", ha=\"center\", va=\"center\", size=12)"
      ],
      "metadata": {
        "id": "KfxUkYaKF5Tc"
      },
      "execution_count": null,
      "outputs": []
    },
    {
      "cell_type": "code",
      "source": [
        "def pre_train_loss_fn():\n"
      ],
      "metadata": {
        "id": "XMBFzE1HXtCR"
      },
      "execution_count": null,
      "outputs": []
    },
    {
      "cell_type": "markdown",
      "source": [
        "## Training"
      ],
      "metadata": {
        "id": "NjV7ADceVeFS"
      }
    },
    {
      "cell_type": "code",
      "source": [
        "train_iter_loss = []\n",
        "test_iter_loss = []\n"
      ],
      "metadata": {
        "id": "L4Jey36s4SpK"
      },
      "execution_count": null,
      "outputs": []
    },
    {
      "cell_type": "code",
      "source": [
        "total = len(train_iter_loss)"
      ],
      "metadata": {
        "id": "wJ0CytqS6NVX"
      },
      "execution_count": null,
      "outputs": []
    },
    {
      "cell_type": "code",
      "source": [
        "total = len(train_iter_loss)\n",
        "epochs = 50\n",
        "cross_entropy_loss = torch.nn.CrossEntropyLoss()\n",
        "learning_rt = 0.0001\n",
        "opt = torch.optim.Adam(clip_m.parameters(), lr=learning_rt)\n",
        "\n",
        "clip_m.to(device)\n",
        "for epoch in range(epochs):\n",
        "    batch_train_loss = []\n",
        "    batch_test_loss = []\n",
        "\n",
        "    for i, (x, y) in enumerate(train_loader):\n",
        "        batch_x = x.unsqueeze(1).to(torch.float32).to(device)\n",
        "        batch_x.to(device)\n",
        "        batch_y = y.to(torch.float32)\n",
        "        batch_y = batch_y.to(device)\n",
        "\n",
        "\n",
        "        logits_per_image, logits_per_voltages = clip_m(batch_x, batch_y) #forward\n",
        "\n",
        "        labels = torch.arange(batch_x.shape[0], device = device)\n",
        "        loss_i = cross_entropy_loss(logits_per_image, labels)\n",
        "        loss_t = cross_entropy_loss(logits_per_voltages, labels)\n",
        "        loss = (loss_i + loss_t)/2\n",
        "\n",
        "        batch_train_loss.append(loss.cpu().detach().numpy())\n",
        "        opt.zero_grad()\n",
        "        loss.backward()\n",
        "        opt.step()\n",
        "\n",
        "\n",
        "        # print('train Loss {}:\\t'.format(i), loss.item())\n",
        "            # torch.save(model, '/content/drive/MyDrive/Colab Notebooks/EIT/EITDeepLearning/model')\n",
        "\n",
        "    train_iter_loss.append(np.average(np.array(batch_train_loss)))\n",
        "    batch_train_loss = []\n",
        "\n",
        "\n",
        "\n",
        "\n",
        "    for a,b in test_loader:\n",
        "\n",
        "        test_x = a.unsqueeze(1).to(torch.float32)\n",
        "        test_x = test_x.to(device)\n",
        "        test_y = b.to(torch.float32)\n",
        "        test_y = test_y.to(device)\n",
        "\n",
        "        logits_per_image, logits_per_voltages = clip_m(batch_x, batch_y)\n",
        "\n",
        "\n",
        "        labels = torch.arange(batch_x.shape[0], device = device)\n",
        "        loss_i = cross_entropy_loss(logits_per_image, labels)\n",
        "        loss_t = cross_entropy_loss(logits_per_voltages, labels)\n",
        "        loss = (loss_i + loss_t)/2\n",
        "\n",
        "        batch_test_loss.append(loss.cpu().detach().numpy())\n",
        "\n",
        "        # print('test MSE {}:\\t'.format(epoch+1), loss.item())\n",
        "    test_iter_loss.append(np.average(np.array(batch_test_loss)))\n",
        "    batch_test_loss = []\n",
        "    print(f\"epoch:{epoch},train loss:{train_iter_loss[epoch + total]}, test loss:{test_iter_loss[epoch + total]}\")\n",
        "\n",
        "\n",
        "\n",
        "\n"
      ],
      "metadata": {
        "colab": {
          "base_uri": "https://localhost:8080/"
        },
        "id": "Ejc-XPv3V0ha",
        "outputId": "d0714f79-f566-4ff8-9228-3e5bd7e56582"
      },
      "execution_count": null,
      "outputs": [
        {
          "output_type": "stream",
          "name": "stdout",
          "text": [
            "epoch:0,train loss:0.07652071118354797, test loss:0.04291674867272377\n",
            "epoch:1,train loss:0.0847695991396904, test loss:0.018314141780138016\n",
            "epoch:2,train loss:0.0801851749420166, test loss:0.08007511496543884\n",
            "epoch:3,train loss:0.07964412122964859, test loss:0.08538394421339035\n",
            "epoch:4,train loss:0.07048732042312622, test loss:0.05097343400120735\n",
            "epoch:5,train loss:0.06503628194332123, test loss:0.0016189204761758447\n",
            "epoch:6,train loss:0.07209916412830353, test loss:0.06424792855978012\n",
            "epoch:7,train loss:0.08837790787220001, test loss:0.05295869708061218\n",
            "epoch:8,train loss:0.08421049267053604, test loss:0.05107400193810463\n",
            "epoch:9,train loss:0.071806401014328, test loss:0.05082663148641586\n",
            "epoch:10,train loss:0.06964220851659775, test loss:0.036089204251766205\n",
            "epoch:11,train loss:0.07365534454584122, test loss:0.062357205897569656\n",
            "epoch:12,train loss:0.05678781494498253, test loss:0.05635765194892883\n",
            "epoch:13,train loss:0.06005284935235977, test loss:0.06121423840522766\n",
            "epoch:14,train loss:0.07835095375776291, test loss:0.0218358151614666\n",
            "epoch:15,train loss:0.09050647914409637, test loss:0.07127102464437485\n",
            "epoch:16,train loss:0.0622616782784462, test loss:0.0592077374458313\n",
            "epoch:17,train loss:0.05028272792696953, test loss:0.05362973362207413\n",
            "epoch:18,train loss:0.046518608927726746, test loss:0.0451197512447834\n",
            "epoch:19,train loss:0.07288026064634323, test loss:0.024496929720044136\n",
            "epoch:20,train loss:0.06317727267742157, test loss:0.01867709867656231\n",
            "epoch:21,train loss:0.07153351604938507, test loss:0.06985217332839966\n",
            "epoch:22,train loss:0.2798105776309967, test loss:0.02899494767189026\n",
            "epoch:23,train loss:0.07075817883014679, test loss:0.04062196612358093\n",
            "epoch:24,train loss:0.060416512191295624, test loss:0.02206486649811268\n",
            "epoch:25,train loss:0.06191612780094147, test loss:0.02092181146144867\n",
            "epoch:26,train loss:0.05279608443379402, test loss:0.05443606525659561\n",
            "epoch:27,train loss:0.05110892653465271, test loss:0.0644790455698967\n",
            "epoch:28,train loss:0.05405242368578911, test loss:0.05027230456471443\n",
            "epoch:29,train loss:0.05398385599255562, test loss:0.06036091968417168\n",
            "epoch:30,train loss:0.06111312657594681, test loss:0.11477352678775787\n",
            "epoch:31,train loss:0.06973293423652649, test loss:0.01858679950237274\n",
            "epoch:32,train loss:0.06277436763048172, test loss:0.009446718730032444\n",
            "epoch:33,train loss:0.0479731410741806, test loss:0.03305792063474655\n",
            "epoch:34,train loss:0.0703677386045456, test loss:0.05241730809211731\n",
            "epoch:35,train loss:0.05815309286117554, test loss:0.025696806609630585\n",
            "epoch:36,train loss:0.051830872893333435, test loss:0.031123856082558632\n",
            "epoch:37,train loss:0.05346665158867836, test loss:0.028158267959952354\n",
            "epoch:38,train loss:0.06457917392253876, test loss:0.03759988397359848\n",
            "epoch:39,train loss:0.06603706628084183, test loss:0.02474014274775982\n",
            "epoch:40,train loss:0.05632772296667099, test loss:0.06828207522630692\n",
            "epoch:41,train loss:0.05381709709763527, test loss:0.044175583869218826\n",
            "epoch:42,train loss:0.06657197326421738, test loss:0.03364748880267143\n",
            "epoch:43,train loss:0.06407474726438522, test loss:0.08989812433719635\n",
            "epoch:44,train loss:0.07554271072149277, test loss:0.0036439241375774145\n",
            "epoch:45,train loss:0.06190942972898483, test loss:0.05477221682667732\n",
            "epoch:46,train loss:0.06953293830156326, test loss:0.0036064283922314644\n",
            "epoch:47,train loss:0.05934499204158783, test loss:0.006563085597008467\n",
            "epoch:48,train loss:0.06469615548849106, test loss:0.03923652693629265\n",
            "epoch:49,train loss:0.0503244623541832, test loss:0.07269404828548431\n"
          ]
        }
      ]
    },
    {
      "cell_type": "code",
      "source": [
        "torch.save(clip_m, '/content/drive/MyDrive/Colab Notebooks/DDPM_EIT/EIT/model')\n",
        "\n",
        "train_loss_save = np.array(train_iter_loss)\n",
        "test_loss_save = np.array(test_iter_loss)\n",
        "np.save('/content/drive/MyDrive/Colab Notebooks/DDPM_EIT/EIT/training_loss.npy', train_loss_save)\n",
        "np.save('/content/drive/MyDrive/Colab Notebooks/DDPM_EIT/EIT/test_loss.npy',test_loss_save)"
      ],
      "metadata": {
        "id": "8t72MuOPpQNN"
      },
      "execution_count": null,
      "outputs": []
    },
    {
      "cell_type": "code",
      "source": [
        "def clip_train():\n",
        "    raise NotImplementedError\n"
      ],
      "metadata": {
        "id": "RQhqCumXVhF_"
      },
      "execution_count": null,
      "outputs": []
    },
    {
      "cell_type": "code",
      "source": [
        "plt.plot([c for c in range(total + epoch)], train_iter_loss)\n",
        "plt.plot([c for c in range(total + epoch)], test_iter_loss)\n"
      ],
      "metadata": {
        "colab": {
          "base_uri": "https://localhost:8080/",
          "height": 448
        },
        "id": "9d62DW9oXSwS",
        "outputId": "9fdc03ed-4982-4b5d-f3d6-f774566c36fb"
      },
      "execution_count": null,
      "outputs": [
        {
          "output_type": "execute_result",
          "data": {
            "text/plain": [
              "[<matplotlib.lines.Line2D at 0x787120823370>]"
            ]
          },
          "metadata": {},
          "execution_count": 21
        },
        {
          "output_type": "display_data",
          "data": {
            "text/plain": [
              "<Figure size 640x480 with 1 Axes>"
            ],
            "image/png": "[encoded data removed]"
          },
          "metadata": {}
        }
      ]
    },
    {
      "cell_type": "markdown",
      "source": [
        "### all"
      ],
      "metadata": {
        "id": "3MBO7-M1O-kf"
      }
    },
    {
      "cell_type": "code",
      "source": [
        "test_model = ModifiedResNet([3, 4, 6, 3], output_dim=1024, heads=8)\n",
        "test_model(torch.randn(32, 1, 32, 32))"
      ],
      "metadata": {
        "colab": {
          "base_uri": "https://localhost:8080/"
        },
        "id": "3Bl4cVRyD-zm",
        "outputId": "bad8aa17-fa43-4e6d-9757-92e6cc0a0520"
      },
      "execution_count": null,
      "outputs": [
        {
          "output_type": "execute_result",
          "data": {
            "text/plain": [
              "tensor([[-0.6109, -0.4749, -0.5306,  ..., -0.3450,  0.3002,  1.2190],\n",
              "        [-0.6214, -0.3956, -0.2325,  ..., -0.4584, -0.4125,  0.0266],\n",
              "        [ 0.0324, -0.4909, -0.3335,  ..., -0.3309, -0.5048,  0.5535],\n",
              "        ...,\n",
              "        [-0.0463, -1.3396, -0.3544,  ..., -0.1106, -0.1085,  0.6233],\n",
              "        [-0.2577, -0.1285,  0.5769,  ..., -0.5697, -0.2555,  0.5122],\n",
              "        [ 0.1313, -0.7219, -0.3546,  ..., -0.8884, -0.1920,  0.2558]],\n",
              "       grad_fn=<SqueezeBackward1>)"
            ]
          },
          "metadata": {},
          "execution_count": 25
        }
      ]
    },
    {
      "cell_type": "code",
      "source": [],
      "metadata": {
        "id": "yWhqpirm_lm8"
      },
      "execution_count": null,
      "outputs": []
    },
    {
      "cell_type": "code",
      "source": [
        "model.eval()\n",
        "resfile = open('res.csv', 'w')\n",
        "for i in range(0, 2000):\n",
        "    #加载当前的图片\n",
        "    img_path = 'F:/学习资源/deep-learning-for-image-processing-master/data_set/cat_dog/test/' + str(i) + '.jpg'\n",
        "        img = Image.open(img_path)\n",
        "        img = data_transform(img)\n",
        "        img = torch.unsqueeze(img, dim=0)\n",
        "        with torch.no_grad():\n",
        "            # predict class\n",
        "            output = torch.squeeze(model(img.to(device))).cpu()\n",
        "            predict = torch.softmax(output, dim=0)\n",
        "            predict_cla = torch.argmax(predict).numpy()\n",
        "            print(img_path,\":\",predict_cla.item())\n",
        "            resfile.write(str(i) + ',' + str(predict_cla.item()))\n",
        "    resfile.close()\n",
        "\n"
      ],
      "metadata": {
        "id": "lGcW0JO17rAo"
      },
      "execution_count": null,
      "outputs": []
    },
    {
      "cell_type": "code",
      "source": [],
      "metadata": {
        "id": "CBDOZj2jD-Cq"
      },
      "execution_count": null,
      "outputs": []
    },
    {
      "cell_type": "code",
      "source": [],
      "metadata": {
        "id": "_Zcw6O3y6LiU"
      },
      "execution_count": null,
      "outputs": []
    },
    {
      "cell_type": "code",
      "source": [
        "\n",
        "\n"
      ],
      "metadata": {
        "id": "Yvjtsmed1mGF"
      },
      "execution_count": null,
      "outputs": []
    },
    {
      "cell_type": "code",
      "source": [],
      "metadata": {
        "id": "aeiq9sLNvqhB"
      },
      "execution_count": null,
      "outputs": []
    },
    {
      "cell_type": "markdown",
      "source": [
        "## diffusion block\n",
        "\n",
        "https://github.com/kjsman/stable-diffusion-pytorch/blob/main/stable_diffusion_pytorch/encoder.py"
      ],
      "metadata": {
        "id": "4mcwptqXjQ8f"
      }
    },
    {
      "cell_type": "code",
      "source": [],
      "metadata": {
        "id": "KPWEoJvAjVqT"
      },
      "execution_count": null,
      "outputs": []
    },
    {
      "cell_type": "markdown",
      "source": [
        "### test cross attention block"
      ],
      "metadata": {
        "id": "omwUB33V8OKV"
      }
    },
    {
      "cell_type": "code",
      "source": [
        "import torch\n",
        "from torch import nn\n",
        "x = torch.randn(135, 1, 1024)\n",
        "y = torch.randn(135, 1, 256)\n",
        "input_shape = x.shape\n",
        "batch_size, sequence_length, d_embed = input_shape\n"
      ],
      "metadata": {
        "id": "AKdvBItejTnA"
      },
      "execution_count": null,
      "outputs": []
    },
    {
      "cell_type": "code",
      "source": [
        "\n",
        "\n",
        "interim_shape = (batch_size, -1, n_heads, d_head)"
      ],
      "metadata": {
        "id": "Nm35fBBR5pmn"
      },
      "execution_count": null,
      "outputs": []
    },
    {
      "cell_type": "code",
      "source": [
        "d_embed = 1024\n",
        "n_heads = 8\n",
        "d_cross = 256\n",
        "d_head = d_embed // n_heads\n",
        "in_proj_bias = True\n",
        "q_proj = nn.Linear(d_embed, d_embed, bias=in_proj_bias)\n",
        "k_proj = nn.Linear(d_cross, d_embed, bias=in_proj_bias)\n",
        "v_proj = nn.Linear(d_cross, d_embed, bias=in_proj_bias)\n",
        "out_proj = nn.Linear(d_embed, d_embed, bias=in_proj_bias)"
      ],
      "metadata": {
        "id": "gEmMjZ766iZb"
      },
      "execution_count": null,
      "outputs": []
    },
    {
      "cell_type": "code",
      "source": [
        "interim_shape"
      ],
      "metadata": {
        "colab": {
          "base_uri": "https://localhost:8080/"
        },
        "id": "0BQl2ltw7GrZ",
        "outputId": "bf8df160-841f-4e33-e434-b45ba5b3720e"
      },
      "execution_count": null,
      "outputs": [
        {
          "output_type": "execute_result",
          "data": {
            "text/plain": [
              "(135, -1, 8, 128)"
            ]
          },
          "metadata": {},
          "execution_count": 22
        }
      ]
    },
    {
      "cell_type": "code",
      "source": [
        "q = q_proj(x)\n",
        "k = k_proj(y)\n",
        "v = v_proj(y)"
      ],
      "metadata": {
        "id": "r2aDzpfm8M2P"
      },
      "execution_count": null,
      "outputs": []
    },
    {
      "cell_type": "code",
      "source": [],
      "metadata": {
        "colab": {
          "base_uri": "https://localhost:8080/"
        },
        "id": "G_5N31Lx8izq",
        "outputId": "0ac26845-60fc-4901-acf3-4d6cd2b8ddc3"
      },
      "execution_count": null,
      "outputs": [
        {
          "output_type": "execute_result",
          "data": {
            "text/plain": [
              "torch.Size([135, 1, 1024])"
            ]
          },
          "metadata": {},
          "execution_count": 28
        }
      ]
    },
    {
      "cell_type": "code",
      "source": [
        "q.view(interim_shape).shape"
      ],
      "metadata": {
        "colab": {
          "base_uri": "https://localhost:8080/"
        },
        "id": "0g0y3GJA8WsZ",
        "outputId": "db2f886f-a5d3-460b-d36e-339e73d7d91c"
      },
      "execution_count": null,
      "outputs": [
        {
          "output_type": "execute_result",
          "data": {
            "text/plain": [
              "torch.Size([135, 1, 8, 128])"
            ]
          },
          "metadata": {},
          "execution_count": 27
        }
      ]
    },
    {
      "cell_type": "code",
      "source": [
        "q.view(interim_shape).transpose(1, 2).shape"
      ],
      "metadata": {
        "colab": {
          "base_uri": "https://localhost:8080/"
        },
        "id": "7DJeSAfe8t1o",
        "outputId": "e376fc23-0536-4970-f7ea-1a8a7e8c8190"
      },
      "execution_count": null,
      "outputs": [
        {
          "output_type": "execute_result",
          "data": {
            "text/plain": [
              "torch.Size([135, 8, 1, 128])"
            ]
          },
          "metadata": {},
          "execution_count": 31
        }
      ]
    },
    {
      "cell_type": "code",
      "source": [
        "q = q.view(interim_shape).transpose(1, 2)\n",
        "k = k.view(interim_shape).transpose(1, 2)\n",
        "v = v.view(interim_shape).transpose(1, 2)"
      ],
      "metadata": {
        "id": "rTcuPrFv85j3"
      },
      "execution_count": null,
      "outputs": []
    },
    {
      "cell_type": "code",
      "source": [
        "import math\n",
        "import torch.nn.functional as F\n",
        "weight = q @ k.transpose(-1, -2)\n",
        "weight /= math.sqrt(d_head)\n",
        "weight = F.softmax(weight, dim=-1)\n",
        "output = weight @ v\n",
        "output = output.transpose(1, 2).contiguous()\n",
        "output = output.view(input_shape)\n",
        "output = out_proj(output)"
      ],
      "metadata": {
        "id": "8G6ZjNOk889V"
      },
      "execution_count": null,
      "outputs": []
    },
    {
      "cell_type": "code",
      "source": [
        "output.shape"
      ],
      "metadata": {
        "id": "3ng1KFMc9KEo",
        "outputId": "727d76af-ed9d-4ac0-dc5d-72260379d944",
        "colab": {
          "base_uri": "https://localhost:8080/"
        }
      },
      "execution_count": null,
      "outputs": [
        {
          "output_type": "execute_result",
          "data": {
            "text/plain": [
              "torch.Size([135, 1, 1024])"
            ]
          },
          "metadata": {},
          "execution_count": 38
        }
      ]
    }
  ]
}